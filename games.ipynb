{
 "cells": [
  {
   "cell_type": "code",
   "execution_count": 3,
   "metadata": {},
   "outputs": [],
   "source": [
    "from football_analysis.config.constant import BAYER_LEVERKUSEN_GAMES_BUNDESLIGA_23_24\n",
    "import json\n",
    "import os"
   ]
  },
  {
   "cell_type": "code",
   "execution_count": 5,
   "metadata": {},
   "outputs": [
    {
     "name": "stdout",
     "output_type": "stream",
     "text": [
      "\"data/events/3895052.json\"\n"
     ]
    }
   ],
   "source": [
    "for game_id in BAYER_LEVERKUSEN_GAMES_BUNDESLIGA_23_24[:1]:\n",
    "    data_path = os.path.join('data', 'events', f'{game_id}.json')\n",
    "    with open(data_path, 'r') as f:\n",
    "        game_data = json.load(f)\n",
    "    print(json.dumps(game_data, indent=4))"
   ]
  },
  {
   "cell_type": "code",
   "execution_count": null,
   "metadata": {},
   "outputs": [],
   "source": []
  }
 ],
 "metadata": {
  "kernelspec": {
   "display_name": "football-analysis-q4FVXzo0-py3.10",
   "language": "python",
   "name": "python3"
  },
  "language_info": {
   "codemirror_mode": {
    "name": "ipython",
    "version": 3
   },
   "file_extension": ".py",
   "mimetype": "text/x-python",
   "name": "python",
   "nbconvert_exporter": "python",
   "pygments_lexer": "ipython3",
   "version": "3.10.12"
  }
 },
 "nbformat": 4,
 "nbformat_minor": 2
}
