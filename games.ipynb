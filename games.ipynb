{
 "cells": [
  {
   "cell_type": "code",
   "execution_count": 7,
   "metadata": {},
   "outputs": [],
   "source": [
    "from football_analysis.config.constant import BAYER_LEVERKUSEN_GAMES_BUNDESLIGA_23_24\n",
    "import json\n",
    "import os\n",
    "\n",
    "with open('data/matches/9/281.json', 'r') as f:\n",
    "    games_metadata = json.load(f)"
   ]
  },
  {
   "cell_type": "code",
   "execution_count": 20,
   "metadata": {},
   "outputs": [],
   "source": [
    "# Create new json to store game_id and game_title\n",
    "game_id_game_title = {}\n",
    "\n",
    "for game_id in BAYER_LEVERKUSEN_GAMES_BUNDESLIGA_23_24[:]:\n",
    "    game_metadata = [game for game in games_metadata if game['match_id'] == int(game_id)][0]\n",
    "\n",
    "    game_title = game_metadata[\"home_team\"][\"home_team_name\"] + \\\n",
    "    ' x ' + \\\n",
    "    game_metadata[\"away_team\"][\"away_team_name\"] + \\\n",
    "    ' (' + \\\n",
    "    game_metadata[\"match_date\"] + \\\n",
    "    ')'\n",
    "\n",
    "    # Add dict item with key as game_id and value as game_title\n",
    "    game_id_game_title[game_id] = game_title\n",
    "\n"
   ]
  },
  {
   "cell_type": "code",
   "execution_count": 17,
   "metadata": {},
   "outputs": [
    {
     "data": {
      "text/plain": [
       "'Bayer Leverkusen x RB Leipzig (2023-08-19)'"
      ]
     },
     "execution_count": 17,
     "metadata": {},
     "output_type": "execute_result"
    }
   ],
   "source": [
    "game_metadata[\"home_team\"][\"home_team_name\"] + \\\n",
    "' x ' + \\\n",
    "game_metadata[\"away_team\"][\"away_team_name\"] + \\\n",
    "' (' + \\\n",
    "game_metadata[\"match_date\"] + \\\n",
    "')'"
   ]
  },
  {
   "cell_type": "code",
   "execution_count": 23,
   "metadata": {},
   "outputs": [
    {
     "data": {
      "text/plain": [
       "{'3895052': 'Bayer Leverkusen x RB Leipzig (2023-08-19)',\n",
       " '3895060': 'Borussia Mönchengladbach x Bayer Leverkusen (2023-08-26)',\n",
       " '3895067': 'Bayer Leverkusen x Darmstadt 98 (2023-09-02)',\n",
       " '3895074': 'Bayern Munich x Bayer Leverkusen (2023-09-15)',\n",
       " '3895086': 'Bayer Leverkusen x FC Heidenheim (2023-09-24)',\n",
       " '3895095': 'FSV Mainz 05 x Bayer Leverkusen (2023-09-30)',\n",
       " '3895107': 'Bayer Leverkusen x FC Köln (2023-10-08)',\n",
       " '3895113': 'Wolfsburg x Bayer Leverkusen (2023-10-21)',\n",
       " '3895121': 'Bayer Leverkusen x Freiburg (2023-10-29)',\n",
       " '3895134': 'Hoffenheim x Bayer Leverkusen (2023-11-04)',\n",
       " '3895139': 'Bayer Leverkusen x Union Berlin (2023-11-12)',\n",
       " '3895153': 'Werder Bremen x Bayer Leverkusen (2023-11-25)',\n",
       " '3895158': 'Bayer Leverkusen x Borussia Dortmund (2023-12-03)',\n",
       " '3895167': 'VfB Stuttgart x Bayer Leverkusen (2023-12-10)',\n",
       " '3895180': 'Bayer Leverkusen x Eintracht Frankfurt (2023-12-17)',\n",
       " '3895182': 'Bayer Leverkusen x Bochum (2023-12-20)',\n",
       " '3895194': 'Augsburg x Bayer Leverkusen (2024-01-13)',\n",
       " '3895202': 'RB Leipzig x Bayer Leverkusen (2024-01-20)',\n",
       " '3895210': 'Bayer Leverkusen x Borussia Mönchengladbach (2024-01-27)',\n",
       " '3895220': 'Darmstadt 98 x Bayer Leverkusen (2024-02-03)',\n",
       " '3895232': 'Bayer Leverkusen x Bayern Munich (2024-02-10)',\n",
       " '3895244': 'FC Heidenheim x Bayer Leverkusen (2024-02-17)',\n",
       " '3895250': 'Bayer Leverkusen x FSV Mainz 05 (2024-02-23)',\n",
       " '3895258': 'FC Köln x Bayer Leverkusen (2024-03-03)',\n",
       " '3895266': 'Bayer Leverkusen x Wolfsburg (2024-03-10)',\n",
       " '3895275': 'Freiburg x Bayer Leverkusen (2024-03-17)',\n",
       " '3895286': 'Bayer Leverkusen x Hoffenheim (2024-03-30)',\n",
       " '3895292': 'Union Berlin x Bayer Leverkusen (2024-04-06)',\n",
       " '3895302': 'Bayer Leverkusen x Werder Bremen (2024-04-14)',\n",
       " '3895309': 'Borussia Dortmund x Bayer Leverkusen (2024-04-21)',\n",
       " '3895320': 'Bayer Leverkusen x VfB Stuttgart (2024-04-27)',\n",
       " '3895333': 'Eintracht Frankfurt x Bayer Leverkusen (2024-05-05)',\n",
       " '3895340': 'Bochum x Bayer Leverkusen (2024-05-12)',\n",
       " '3895348': 'Bayer Leverkusen x Augsburg (2024-05-18)'}"
      ]
     },
     "execution_count": 23,
     "metadata": {},
     "output_type": "execute_result"
    }
   ],
   "source": [
    "game_id_game_title\n",
    "\n",
    "# Sort dict by value\n",
    "sorted_game_id_game_title = dict(sorted(game_id_game_title.items(), key=lambda item: item[1]))\n",
    "\n",
    "sorted_game_id_game_title\n",
    "\n",
    "# Sort game by date in parenthesis inside value\n",
    "sorted_game_id_game_title_date = dict(sorted(game_id_game_title.items(), key=lambda item: item[1][-11:-1]))\n",
    "sorted_game_id_game_title_date"
   ]
  },
  {
   "cell_type": "code",
   "execution_count": null,
   "metadata": {},
   "outputs": [],
   "source": []
  }
 ],
 "metadata": {
  "kernelspec": {
   "display_name": "football-analysis-q4FVXzo0-py3.10",
   "language": "python",
   "name": "python3"
  },
  "language_info": {
   "codemirror_mode": {
    "name": "ipython",
    "version": 3
   },
   "file_extension": ".py",
   "mimetype": "text/x-python",
   "name": "python",
   "nbconvert_exporter": "python",
   "pygments_lexer": "ipython3",
   "version": "3.10.12"
  }
 },
 "nbformat": 4,
 "nbformat_minor": 2
}
